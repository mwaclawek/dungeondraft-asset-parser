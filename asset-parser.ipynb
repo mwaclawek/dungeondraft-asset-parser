{
 "cells": [
  {
   "cell_type": "code",
   "execution_count": 3,
   "metadata": {},
   "outputs": [
    {
     "name": "stdout",
     "output_type": "stream",
     "text": [
      "['/Users/mateuszwaclawek/Desktop/FA assets/preview.png', '/Users/mateuszwaclawek/Desktop/FA assets/.DS_Store']\n"
     ]
    }
   ],
   "source": [
    "import os\n",
    "\n",
    "folder_path = \"/Users/mateuszwaclawek/Desktop/FA assets\" # replace with your folder path\n",
    "file_paths = []\n",
    "\n",
    "# iterate over all files in the folder\n",
    "for filename in os.listdir(folder_path):\n",
    "    # construct the full file path by joining the folder path and the filename\n",
    "    full_file_path = os.path.join(folder_path, filename)\n",
    "    # check if the file path is a file (as opposed to a subdirectory)\n",
    "    if os.path.isfile(full_file_path):\n",
    "        # add the file path to the list\n",
    "        file_paths.append(full_file_path)\n",
    "\n",
    "print(file_paths)\n"
   ]
  },
  {
   "cell_type": "code",
   "execution_count": 4,
   "metadata": {},
   "outputs": [
    {
     "name": "stdout",
     "output_type": "stream",
     "text": [
      "File paths written to file_paths.json\n"
     ]
    }
   ],
   "source": [
    "import os\n",
    "import json\n",
    "\n",
    "folder_path = \"/Users/mateuszwaclawek/Desktop/FA assets\" # replace with your root folder path\n",
    "file_paths = []\n",
    "\n",
    "# recursively iterate over all files in the root folder and its subfolders\n",
    "for root, directories, filenames in os.walk(folder_path):\n",
    "    for filename in filenames:\n",
    "        # construct the full file path by joining the root path and the filename\n",
    "        full_file_path = os.path.join(root, filename)\n",
    "        # add the file path to the list\n",
    "        file_paths.append(full_file_path)\n",
    "\n",
    "# write the list of file paths to a JSON file\n",
    "with open(\"file_paths.json\", \"w\") as f:\n",
    "    json.dump(file_paths, f)\n",
    "\n",
    "print(\"File paths written to file_paths.json\")\n"
   ]
  },
  {
   "cell_type": "code",
   "execution_count": 6,
   "metadata": {},
   "outputs": [
    {
     "name": "stdout",
     "output_type": "stream",
     "text": [
      "File paths written to file_paths.json\n"
     ]
    }
   ],
   "source": [
    "import os\n",
    "import json\n",
    "\n",
    "folder_path = \"/Users/mateuszwaclawek/Desktop/FA assets\" # replace with your root folder path\n",
    "file_paths = []\n",
    "\n",
    "# recursively iterate over all files in the root folder and its subfolders\n",
    "for root, directories, filenames in os.walk(folder_path):\n",
    "    for filename in filenames:\n",
    "        # check if the file should be skipped\n",
    "        if filename == \".DS_Store\":\n",
    "            continue\n",
    "        # construct the full file path by joining the root path and the filename\n",
    "        full_file_path = os.path.join(root, filename)\n",
    "        # add the file path to the list\n",
    "        file_paths.append(full_file_path)\n",
    "\n",
    "# write the list of file paths to a JSON file\n",
    "with open(\"file_paths.json\", \"w\") as f:\n",
    "    json.dump(file_paths, f)\n",
    "\n",
    "print(\"File paths written to file_paths.json\")\n"
   ]
  }
 ],
 "metadata": {
  "kernelspec": {
   "display_name": "Python 3",
   "language": "python",
   "name": "python3"
  },
  "language_info": {
   "codemirror_mode": {
    "name": "ipython",
    "version": 3
   },
   "file_extension": ".py",
   "mimetype": "text/x-python",
   "name": "python",
   "nbconvert_exporter": "python",
   "pygments_lexer": "ipython3",
   "version": "3.11.0"
  },
  "orig_nbformat": 4
 },
 "nbformat": 4,
 "nbformat_minor": 2
}
